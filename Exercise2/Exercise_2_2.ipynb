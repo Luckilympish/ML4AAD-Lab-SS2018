{
  "nbformat": 4,
  "nbformat_minor": 0,
  "metadata": {
    "colab": {
      "name": "Exercise 2.2",
      "version": "0.3.2",
      "provenance": [],
      "collapsed_sections": []
    },
    "kernelspec": {
      "name": "python3",
      "display_name": "Python 3"
    }
  },
  "cells": [
    {
      "cell_type": "markdown",
      "metadata": {
        "id": "view-in-github",
        "colab_type": "text"
      },
      "source": [
        "[View in Colaboratory](https://colab.research.google.com/github/gresash/ML4AAD-Lab-SS2018/blob/master/Exercise2/Exercise_2_2.ipynb)"
      ]
    },
    {
      "metadata": {
        "id": "ne9ZK_a7eHgX",
        "colab_type": "text"
      },
      "cell_type": "markdown",
      "source": [
        "# Hyperparameter Optimization of SVM with Instances\n",
        "* Installation of SMAC and its Dependencies\n",
        "* Without instances: Optimization of Hyperparameters of SVM on Iris Dataset\n",
        "* With instances: Optimization of Hyperparameters of SVM on Iris Dataset"
      ]
    },
    {
      "metadata": {
        "id": "pmg-IWhgg9M0",
        "colab_type": "text"
      },
      "cell_type": "markdown",
      "source": [
        "## Installation of SMAC and its Dependencies"
      ]
    },
    {
      "metadata": {
        "id": "JcUJSlFhRCgb",
        "colab_type": "code",
        "colab": {
          "base_uri": "https://localhost:8080/",
          "height": 1737
        },
        "outputId": "b78809cf-a390-4541-ffaa-537d2d96a86a"
      },
      "cell_type": "code",
      "source": [
        "!apt-get install swig -y\n",
        "!pip install Cython\n",
        "!pip install pyrfr==0.8.0 --no-cache --user\n",
        "# hack to find pyrfr\n",
        "import sys\n",
        "sys.path.insert(0,\"./.local/lib/python3.6/site-packages\")\n",
        "\n",
        "!pip install git+https://github.com/automl/SMAC3.git@development\n",
        "import logging\n",
        "logging.basicConfig(level=logging.INFO)\n"
      ],
      "execution_count": 1,
      "outputs": [
        {
          "output_type": "stream",
          "text": [
            "Reading package lists... Done\n",
            "Building dependency tree       \n",
            "Reading state information... Done\n",
            "The following additional packages will be installed:\n",
            "  swig3.0\n",
            "Suggested packages:\n",
            "  swig-doc swig-examples swig3.0-examples swig3.0-doc\n",
            "The following NEW packages will be installed:\n",
            "  swig swig3.0\n",
            "0 upgraded, 2 newly installed, 0 to remove and 0 not upgraded.\n",
            "Need to get 1,080 kB of archives.\n",
            "After this operation, 5,657 kB of additional disk space will be used.\n",
            "Get:1 http://archive.ubuntu.com/ubuntu artful/universe amd64 swig3.0 amd64 3.0.10-1.2 [1,074 kB]\n",
            "Get:2 http://archive.ubuntu.com/ubuntu artful/universe amd64 swig amd64 3.0.10-1.2 [6,384 B]\n",
            "Fetched 1,080 kB in 1s (788 kB/s)\n",
            "Selecting previously unselected package swig3.0.\n",
            "(Reading database ... 18298 files and directories currently installed.)\n",
            "Preparing to unpack .../swig3.0_3.0.10-1.2_amd64.deb ...\n",
            "Unpacking swig3.0 (3.0.10-1.2) ...\n",
            "Selecting previously unselected package swig.\n",
            "Preparing to unpack .../swig_3.0.10-1.2_amd64.deb ...\n",
            "Unpacking swig (3.0.10-1.2) ...\n",
            "Setting up swig3.0 (3.0.10-1.2) ...\n",
            "Setting up swig (3.0.10-1.2) ...\n",
            "Collecting Cython\n",
            "\u001b[?25l  Downloading https://files.pythonhosted.org/packages/6f/79/d8e2cd00bea8156a995fb284ce7b6677c49eccd2d318f73e201a9ce560dc/Cython-0.28.3-cp36-cp36m-manylinux1_x86_64.whl (3.4MB)\n",
            "\u001b[K    100% |████████████████████████████████| 3.4MB 6.6MB/s \n",
            "\u001b[?25hInstalling collected packages: Cython\n",
            "Successfully installed Cython-0.28.3\n",
            "Collecting pyrfr==0.8.0\n",
            "\u001b[?25l  Downloading https://files.pythonhosted.org/packages/ed/0f/4d7e42a9dfef3a1898e03cffa8f1cfcd1f96507d718808b2db584c6f8401/pyrfr-0.8.0.tar.gz (293kB)\n",
            "\u001b[K    100% |████████████████████████████████| 296kB 7.5MB/s \n",
            "\u001b[?25hInstalling collected packages: pyrfr\n",
            "  Running setup.py install for pyrfr ... \u001b[?25l-\b \b\\\b \b|\b \b/\b \b-\b \b\\\b \b|\b \b/\b \bdone\n",
            "\u001b[?25hSuccessfully installed pyrfr-0.8.0\n",
            "Collecting git+https://github.com/automl/SMAC3.git@development\n",
            "  Cloning https://github.com/automl/SMAC3.git (to revision development) to /tmp/pip-req-build-h9bw1_tw\n",
            "Requirement already satisfied: setuptools in /usr/local/lib/python3.6/dist-packages (from smac==0.8.0) (39.2.0)\n",
            "Requirement already satisfied: cython in /usr/local/lib/python3.6/dist-packages (from smac==0.8.0) (0.28.3)\n",
            "Requirement already satisfied: numpy>=1.7.1 in /usr/local/lib/python3.6/dist-packages (from smac==0.8.0) (1.14.3)\n",
            "Requirement already satisfied: scipy>=0.18.1 in /usr/local/lib/python3.6/dist-packages (from smac==0.8.0) (0.19.1)\n",
            "Requirement already satisfied: six in /usr/local/lib/python3.6/dist-packages (from smac==0.8.0) (1.11.0)\n",
            "Requirement already satisfied: psutil in /usr/local/lib/python3.6/dist-packages (from smac==0.8.0) (5.4.5)\n",
            "Collecting pynisher>=0.4.1 (from smac==0.8.0)\n",
            "  Downloading https://files.pythonhosted.org/packages/d2/cd/4e0469a55fd280df177af2d5e94d72541d3bb0115280e31a23c8922987e6/pynisher-0.4.2.tar.gz\n",
            "Collecting ConfigSpace<0.5,>=0.4.6 (from smac==0.8.0)\n",
            "\u001b[?25l  Downloading https://files.pythonhosted.org/packages/c3/6f/2ef7c973b3004d35e5a89dfd3e3ae1f25513728e6db158eb86ef3ec75ff3/ConfigSpace-0.4.6.tar.gz (846kB)\n",
            "\u001b[K    100% |████████████████████████████████| 849kB 8.9MB/s \n",
            "\u001b[?25hRequirement already satisfied: scikit-learn>=0.18.0 in /usr/local/lib/python3.6/dist-packages (from smac==0.8.0) (0.19.1)\n",
            "Requirement already satisfied: typing in /usr/local/lib/python3.6/dist-packages (from smac==0.8.0) (3.6.4)\n",
            "Requirement already satisfied: pyrfr>=0.5.0 in ./.local/lib/python3.6/site-packages (from smac==0.8.0) (0.8.0)\n",
            "Collecting sphinx (from smac==0.8.0)\n",
            "\u001b[?25l  Downloading https://files.pythonhosted.org/packages/1b/9f/98d67201c5a6e1aececed03a44a819d0e32adba81414081e303cfaf8c54c/Sphinx-1.7.5-py2.py3-none-any.whl (1.9MB)\n",
            "\u001b[K    100% |████████████████████████████████| 1.9MB 5.9MB/s \n",
            "\u001b[?25hCollecting sphinx_rtd_theme (from smac==0.8.0)\n",
            "\u001b[?25l  Downloading https://files.pythonhosted.org/packages/47/33/e3a1cc08acf0c50418c505d1b954adc950141ace691e3b4a22ba91950a32/sphinx_rtd_theme-0.3.1-py2.py3-none-any.whl (2.2MB)\n",
            "\u001b[K    100% |████████████████████████████████| 2.2MB 10.1MB/s \n"
          ],
          "name": "stdout"
        },
        {
          "output_type": "stream",
          "text": [
            "\u001b[?25hCollecting joblib (from smac==0.8.0)\n",
            "\u001b[?25l  Downloading https://files.pythonhosted.org/packages/4f/51/870b2ec270fc29c5d89f85353da420606a9cb39fba4747127e7c7d7eb25d/joblib-0.11-py2.py3-none-any.whl (176kB)\n",
            "\u001b[K    100% |████████████████████████████████| 184kB 26.0MB/s \n",
            "\u001b[?25hCollecting nose>=1.3.0 (from smac==0.8.0)\n",
            "\u001b[?25l  Downloading https://files.pythonhosted.org/packages/15/d8/dd071918c040f50fa1cf80da16423af51ff8ce4a0f2399b7bf8de45ac3d9/nose-1.3.7-py3-none-any.whl (154kB)\n",
            "\u001b[K    100% |████████████████████████████████| 163kB 16.9MB/s \n",
            "\u001b[?25hCollecting docutils>=0.3 (from pynisher>=0.4.1->smac==0.8.0)\n",
            "\u001b[?25l  Downloading https://files.pythonhosted.org/packages/36/fa/08e9e6e0e3cbd1d362c3bbee8d01d0aedb2155c4ac112b19ef3cae8eed8d/docutils-0.14-py3-none-any.whl (543kB)\n",
            "\u001b[K    100% |████████████████████████████████| 552kB 9.4MB/s \n",
            "\u001b[?25hRequirement already satisfied: pyparsing in /usr/local/lib/python3.6/dist-packages (from ConfigSpace<0.5,>=0.4.6->smac==0.8.0) (2.2.0)\n",
            "Collecting snowballstemmer>=1.1 (from sphinx->smac==0.8.0)\n",
            "\u001b[?25l  Downloading https://files.pythonhosted.org/packages/d4/6c/8a935e2c7b54a37714656d753e4187ee0631988184ed50c0cf6476858566/snowballstemmer-1.2.1-py2.py3-none-any.whl (64kB)\n",
            "\u001b[K    100% |████████████████████████████████| 71kB 17.9MB/s \n",
            "\u001b[?25hCollecting imagesize (from sphinx->smac==0.8.0)\n",
            "  Downloading https://files.pythonhosted.org/packages/e9/79/31cc1c2e0daf575f8fd2b581e2975e6a6938bd439581f766b79c50479521/imagesize-1.0.0-py2.py3-none-any.whl\n",
            "Requirement already satisfied: Jinja2>=2.3 in /usr/local/lib/python3.6/dist-packages (from sphinx->smac==0.8.0) (2.10)\n",
            "Collecting packaging (from sphinx->smac==0.8.0)\n",
            "  Downloading https://files.pythonhosted.org/packages/ad/c2/b500ea05d5f9f361a562f089fc91f77ed3b4783e13a08a3daf82069b1224/packaging-17.1-py2.py3-none-any.whl\n",
            "Collecting alabaster<0.8,>=0.7 (from sphinx->smac==0.8.0)\n",
            "  Downloading https://files.pythonhosted.org/packages/2e/c3/9b7dcd8548cf2c00531763ba154e524af575e8f36701bacfe5bcadc67440/alabaster-0.7.10-py2.py3-none-any.whl\n",
            "Collecting sphinxcontrib-websupport (from sphinx->smac==0.8.0)\n",
            "  Downloading https://files.pythonhosted.org/packages/56/0f/3ee19ca5e5a1d9751cf4bbeb372d40a46421c4321fe55a4703ba66d0bafb/sphinxcontrib_websupport-1.0.1-py2.py3-none-any.whl\n",
            "Requirement already satisfied: requests>=2.0.0 in /usr/local/lib/python3.6/dist-packages (from sphinx->smac==0.8.0) (2.18.4)\n",
            "Requirement already satisfied: Pygments>=2.0 in /usr/local/lib/python3.6/dist-packages (from sphinx->smac==0.8.0) (2.1.3)\n",
            "Collecting babel!=2.0,>=1.3 (from sphinx->smac==0.8.0)\n",
            "\u001b[?25l  Downloading https://files.pythonhosted.org/packages/b8/ad/c6f60602d3ee3d92fbed87675b6fb6a6f9a38c223343ababdb44ba201f10/Babel-2.6.0-py2.py3-none-any.whl (8.1MB)\n",
            "\u001b[K    100% |████████████████████████████████| 8.1MB 4.9MB/s \n",
            "\u001b[?25hRequirement already satisfied: MarkupSafe>=0.23 in /usr/local/lib/python3.6/dist-packages (from Jinja2>=2.3->sphinx->smac==0.8.0) (1.0)\n",
            "Requirement already satisfied: idna<2.7,>=2.5 in /usr/local/lib/python3.6/dist-packages (from requests>=2.0.0->sphinx->smac==0.8.0) (2.6)\n",
            "Requirement already satisfied: certifi>=2017.4.17 in /usr/local/lib/python3.6/dist-packages (from requests>=2.0.0->sphinx->smac==0.8.0) (2018.4.16)\n",
            "Requirement already satisfied: urllib3<1.23,>=1.21.1 in /usr/local/lib/python3.6/dist-packages (from requests>=2.0.0->sphinx->smac==0.8.0) (1.22)\n",
            "Requirement already satisfied: chardet<3.1.0,>=3.0.2 in /usr/local/lib/python3.6/dist-packages (from requests>=2.0.0->sphinx->smac==0.8.0) (3.0.4)\n",
            "Requirement already satisfied: pytz>=0a in /usr/local/lib/python3.6/dist-packages (from babel!=2.0,>=1.3->sphinx->smac==0.8.0) (2018.4)\n",
            "Building wheels for collected packages: smac, pynisher, ConfigSpace\n",
            "  Running setup.py bdist_wheel for smac ... \u001b[?25l-\b \b\\\b \b|\b \bdone\n",
            "\u001b[?25h  Stored in directory: /tmp/pip-ephem-wheel-cache-62bv7_ns/wheels/f4/8d/4f/2ba4cb80693f139ea06c2e8541e012a93738fb56bc1e43a202\n",
            "  Running setup.py bdist_wheel for pynisher ... \u001b[?25l-\b \bdone\n",
            "\u001b[?25h  Stored in directory: /content/.cache/pip/wheels/81/35/cb/37fe9c279ac6e56fc8805e146a431c27550dce1ad868ffa04e\n",
            "  Running setup.py bdist_wheel for ConfigSpace ... \u001b[?25l-\b \b\\\b \b|\b \b/\b \b-\b \b\\\b \b|"
          ],
          "name": "stdout"
        },
        {
          "output_type": "stream",
          "text": [
            "\b \b/\b \b-\b \b\\\b \b|\b \b/\b \b-\b \b\\\b \b|\b \bdone\n",
            "\u001b[?25h  Stored in directory: /content/.cache/pip/wheels/04/bb/ce/b64b66d9b04eb27445cc5445f69eb35dcd2b5884122be62f13\n",
            "Successfully built smac pynisher ConfigSpace\n",
            "Installing collected packages: docutils, pynisher, ConfigSpace, snowballstemmer, imagesize, packaging, alabaster, sphinxcontrib-websupport, babel, sphinx, sphinx-rtd-theme, joblib, nose, smac\n",
            "Successfully installed ConfigSpace-0.4.6 alabaster-0.7.10 babel-2.6.0 docutils-0.14 imagesize-1.0.0 joblib-0.11 nose-1.3.7 packaging-17.1 pynisher-0.4.2 smac-0.8.0 snowballstemmer-1.2.1 sphinx-1.7.5 sphinx-rtd-theme-0.3.1 sphinxcontrib-websupport-1.0.1\n"
          ],
          "name": "stdout"
        }
      ]
    },
    {
      "metadata": {
        "id": "ROeeoJs2F95e",
        "colab_type": "text"
      },
      "cell_type": "markdown",
      "source": [
        "## Define Useful Functions for plotting and getting data from SMAC runs"
      ]
    },
    {
      "metadata": {
        "id": "O2GowUPf3uw2",
        "colab_type": "code",
        "colab": {}
      },
      "cell_type": "code",
      "source": [
        "%matplotlib inline\n",
        "from sklearn.metrics import accuracy_score,make_scorer\n",
        "from sklearn.model_selection import KFold\n",
        "from sklearn.cross_validation import cross_val_score\n",
        "from sklearn.svm import SVC\n",
        "from sklearn.datasets import load_iris\n",
        "import numpy as np\n",
        "import matplotlib.pyplot as plt\n",
        "\n",
        "\n",
        "def get_history(smac):\n",
        "    # get runhistory, all runs ever evaluated by smac\n",
        "    runhistory = smac.get_runhistory()\n",
        "\n",
        "    # extract x value and corresponding y value\n",
        "    cost = []\n",
        "    for entry in runhistory.data:  # iterate over data because it is an OrderedDict\n",
        "        config_id = entry.config_id  # look up config id\n",
        "        config = runhistory.ids_config[config_id]  # look up config\n",
        "        z_ = runhistory.get_cost(config)  # get cost\n",
        "        cost.append(z_)\n",
        "    cost = np.array(cost)\n",
        "    return cost\n",
        "\n",
        "\n",
        "def plot_log_scale(y_smac, maxfun, label, color):\n",
        "    x = np.linspace(0, maxfun, num=maxfun)\n",
        "    # Plotting\n",
        "    ax = plt.subplot(111)\n",
        "\n",
        "    plt.xlabel('#evaluations')\n",
        "    plt.ylabel('Loss')\n",
        "\n",
        "    # let's plot only the best function value at each time step\n",
        "    y_min = np.zeros(maxfun)\n",
        "    y_median = np.zeros(maxfun)\n",
        "    y_25th = np.zeros(maxfun)\n",
        "    y_75th = np.zeros(maxfun)\n",
        "    for id in range(maxfun):\n",
        "        y_min[id] = np.min(y_smac[:id+1])\n",
        "        y_median[id] = np.percentile(y_min[:id+1], 50)\n",
        "        y_25th[id] = np.percentile(y_min[:id+1], 25)\n",
        "        y_75th[id] = np.percentile(y_min[:id+1], 75)\n",
        "\n",
        "    plt.plot(y_median, 'o', color=color)\n",
        "    ax.step(y_median, 'k', where=\"post\", label=label, color=color)\n",
        "    ax.set_xscale(\"log\")\n",
        "    plt.fill_between(x, y_25th, y_75th, alpha=0.5, color=color, step='pre')\n",
        "    plt.show()\n",
        "\n",
        "iris = load_iris()\n",
        "\n",
        "\n",
        "def create_instance_string(X, y, X_test, y_test):\n",
        "    feature1_str = \"\"\n",
        "    for i in X[:, 0]:\n",
        "        feature1_str += (str(i) + \"\\n\")\n",
        "    for i in X[:, 1]:\n",
        "        feature1_str += (str(i) + \"\\n\")\n",
        "    for i in X[:, 2]:\n",
        "        feature1_str += (str(i) + \"\\n\")\n",
        "    for i in X[:, 3]:\n",
        "        feature1_str += (str(i) + \"\\n\")\n",
        "    for i in y:\n",
        "        feature1_str += (str(i) + \"\\n\")\n",
        "    for i in X_test[:, 0]:\n",
        "        feature1_str += (str(i) + \"\\n\")\n",
        "    for i in X_test[:, 1]:\n",
        "        feature1_str += (str(i) + \"\\n\")\n",
        "    for i in X_test[:, 2]:\n",
        "        feature1_str += (str(i) + \"\\n\")\n",
        "    for i in X_test[:, 3]:\n",
        "        feature1_str += (str(i) + \"\\n\")\n",
        "    for i in y_test:\n",
        "        feature1_str += (str(i) + \"\\n\")\n",
        "    return feature1_str\n",
        "\n",
        "\n",
        "def read_instance_from_string(instance):\n",
        "    feature1 = []\n",
        "    feature2 = []\n",
        "    feature3 = []\n",
        "    feature4 = []\n",
        "    labels = []\n",
        "    feature1_test = []\n",
        "    feature2_test = []\n",
        "    feature3_test = []\n",
        "    feature4_test = []\n",
        "    labels_test = []\n",
        "    instance = instance.split(\"\\n\")\n",
        "    instance = instance[:-1]\n",
        "    for i in instance[:120]:\n",
        "        feature1.append(float(i))\n",
        "    for i in instance[120:240]:\n",
        "        feature2.append(float(i))\n",
        "    for i in instance[240:360]:\n",
        "        feature3.append(float(i))\n",
        "    for i in instance[360:480]:\n",
        "        feature4.append(float(i))\n",
        "    for i in instance[480:600]:\n",
        "        labels.append(int(i))\n",
        "    for i in instance[600:630]:\n",
        "        feature1_test.append(float(i))\n",
        "    for i in instance[630:660]:\n",
        "        feature2_test.append(float(i))\n",
        "    for i in instance[660:690]:\n",
        "        feature3_test.append(float(i))\n",
        "    for i in instance[690:720]:\n",
        "        feature4_test.append(float(i))\n",
        "    for i in instance[720:]:\n",
        "        labels_test.append(int(i))\n",
        "    return np.array([feature1, feature2, feature3, feature4]).T, labels, np.array([feature1_test, feature2_test, feature3_test, feature4_test]).T, labels_test\n"
      ],
      "execution_count": 0,
      "outputs": []
    },
    {
      "metadata": {
        "id": "fVE4MkkEvlrL",
        "colab_type": "text"
      },
      "cell_type": "markdown",
      "source": [
        "## Define Functions to be optimized (SVM with Iris Dataset)"
      ]
    },
    {
      "metadata": {
        "id": "G47sndMivkt3",
        "colab_type": "code",
        "colab": {}
      },
      "cell_type": "code",
      "source": [
        "def svc_from_cfg_no_instances(cfg):\n",
        "    \"\"\" Creates a SVM based on a configuration and evaluates it on the\n",
        "    iris-dataset using cross-validation.\n",
        "\n",
        "    Parameters:\n",
        "    -----------\n",
        "    cfg: Configuration (ConfigSpace.ConfigurationSpace.Configuration)\n",
        "        Configuration containing the parameters.\n",
        "    Returns:\n",
        "    --------\n",
        "    A crossvalidated mean score for the svm on the loaded data-set.\n",
        "    \"\"\"\n",
        "    # For deactivated parameters, the configuration stores None-values.\n",
        "    # This is not accepted by the SVM, so we remove them.\n",
        "    cfg = {k: cfg[k] for k in cfg if cfg[k]}\n",
        "    # We translate boolean values\n",
        "    cfg[\"shrinking\"] = True if cfg[\"shrinking\"] == \"true\" else False\n",
        "    # And for gamma, we set it to a fixed value or to \"auto\" (if used)\n",
        "    if \"gamma\" in cfg:\n",
        "        cfg[\"gamma\"] = cfg[\"gamma_value\"] if cfg[\"gamma\"] == \"value\" else \"auto\"\n",
        "        cfg.pop(\"gamma_value\", None)  # Remove \"gamma_value\"\n",
        "    clf = SVC(**cfg, random_state=42)\n",
        "    scores = cross_val_score(clf, iris.data, iris.target, cv=5, scoring=make_scorer(accuracy_score))\n",
        "    return 1 - np.mean(scores)\n",
        "\n",
        "\n",
        "def svc_from_cfg(cfg, instance, seed=0):\n",
        "    \"\"\" Creates a SVM based on a configuration and evaluates it on the\n",
        "    iris-dataset using cross-validation.\n",
        "\n",
        "    Parameters:\n",
        "    -----------\n",
        "    cfg: Configuration (ConfigSpace.ConfigurationSpace.Configuration)\n",
        "        Configuration containing the parameters.\n",
        "    Returns:\n",
        "    --------\n",
        "    A crossvalidated mean score for the svm on the loaded data-set.\n",
        "    \"\"\"\n",
        "    # For deactivated parameters, the configuration stores None-values.\n",
        "    # This is not accepted by the SVM, so we remove them.\n",
        "    try:\n",
        "        data, labels, data_test, labels_test = read_instance_from_string(instance)\n",
        "        cfg = {k: cfg[k] for k in cfg if cfg[k]}\n",
        "        # We translate boolean values\n",
        "        cfg[\"shrinking\"] = True if cfg[\"shrinking\"] == \"true\" else False\n",
        "        # And for gamma, we set it to a fixed value or to \"auto\" (if used)\n",
        "        if \"gamma\" in cfg:\n",
        "            cfg[\"gamma\"] = cfg[\"gamma_value\"] if cfg[\"gamma\"] == \"value\" else \"auto\"\n",
        "            cfg.pop(\"gamma_value\", None)  # Remove \"gamma_value\"\n",
        "        clf = SVC(**cfg, random_state=42)\n",
        "        clf.fit(data, labels)\n",
        "        predicted = clf.predict(data_test)\n",
        "        score = accuracy_score(labels_test, predicted)\n",
        "    except TypeError:\n",
        "        pass\n",
        "    return 1 - score\n"
      ],
      "execution_count": 0,
      "outputs": []
    },
    {
      "metadata": {
        "id": "PySzRnfrM-Qk",
        "colab_type": "text"
      },
      "cell_type": "markdown",
      "source": [
        "# Define Instance Space\n",
        "Let's simply assume that we discretize the y-axis into 20 instances"
      ]
    },
    {
      "metadata": {
        "id": "eXiBdthKv8Nx",
        "colab_type": "code",
        "colab": {}
      },
      "cell_type": "code",
      "source": [
        "kf = KFold(n_splits=5)\n",
        "indexes_train=[]\n",
        "indexes_test=[]\n",
        "X1 = []\n",
        "X2 = []\n",
        "X3 = []\n",
        "X4 = []\n",
        "X5 = []\n",
        "\n",
        "y1 = []\n",
        "y2 = []\n",
        "y3 = []\n",
        "y4 = []\n",
        "y5 = []\n",
        "\n",
        "X1_test = []\n",
        "X2_test = []\n",
        "X3_test = []\n",
        "X4_test = []\n",
        "X5_test = []\n",
        "\n",
        "y1_test = []\n",
        "y2_test = []\n",
        "y3_test = []\n",
        "y4_test = []\n",
        "y5_test = []\n",
        "\n",
        "for i1, i2 in kf.split(iris.data):\n",
        "    indexes_train.append(i1)\n",
        "    indexes_test.append(i2)\n",
        "\n",
        "X1 = iris.data[indexes_train[0]]\n",
        "X2 = iris.data[indexes_train[1]]\n",
        "X3 = iris.data[indexes_train[2]]\n",
        "X4 = iris.data[indexes_train[3]]\n",
        "X5 = iris.data[indexes_train[4]]\n",
        "\n",
        "\n",
        "y1 = iris.target[indexes_train[0]]\n",
        "y2 = iris.target[indexes_train[1]]\n",
        "y3 = iris.target[indexes_train[2]]\n",
        "y4 = iris.target[indexes_train[3]]\n",
        "y5 = iris.target[indexes_train[4]]\n",
        "\n",
        "X1_test = iris.data[indexes_test[0]]\n",
        "X2_test = iris.data[indexes_test[1]]\n",
        "X3_test = iris.data[indexes_test[2]]\n",
        "X4_test = iris.data[indexes_test[3]]\n",
        "X5_test = iris.data[indexes_test[4]]\n",
        "\n",
        "\n",
        "y1_test = iris.target[indexes_test[0]]\n",
        "y2_test = iris.target[indexes_test[1]]\n",
        "y3_test = iris.target[indexes_test[2]]\n",
        "y4_test = iris.target[indexes_test[3]]\n",
        "y5_test = iris.target[indexes_test[4]]\n",
        "\n",
        "\n",
        "#Creating instances for SMAC to optimize on\n",
        "instance1 = create_instance_string(X1, y1, X1_test, y1_test)\n",
        "instance2 = create_instance_string(X2, y2, X2_test, y2_test)\n",
        "instance3 = create_instance_string(X3, y3, X3_test, y3_test)\n",
        "instance4 = create_instance_string(X4, y4, X4_test, y4_test)\n",
        "instance5 = create_instance_string(X5, y5, X5_test, y5_test)\n"
      ],
      "execution_count": 0,
      "outputs": []
    },
    {
      "metadata": {
        "id": "MkuXy9unPdaR",
        "colab_type": "text"
      },
      "cell_type": "markdown",
      "source": [
        "## Define Configuration Space"
      ]
    },
    {
      "metadata": {
        "id": "c0yPiWGc2B-m",
        "colab_type": "code",
        "colab": {
          "base_uri": "https://localhost:8080/",
          "height": 85
        },
        "outputId": "3119337d-283f-4cae-fc85-dfc4a0d22521"
      },
      "cell_type": "code",
      "source": [
        "from smac.configspace import ConfigurationSpace\n",
        "from ConfigSpace.conditions import InCondition\n",
        "from ConfigSpace.hyperparameters import CategoricalHyperparameter, \\\n",
        "    UniformFloatHyperparameter, UniformIntegerHyperparameter\n",
        "\n",
        "cs = ConfigurationSpace()\n",
        "\n",
        "shrinking = CategoricalHyperparameter(\"shrinking\", [\"true\", \"false\"], default_value=\"true\")\n",
        "kernel = CategoricalHyperparameter(\"kernel\", [\"linear\", \"poly\", \"rbf\", \"sigmoid\"], default_value=\"poly\")\n",
        "degree = UniformIntegerHyperparameter(\"degree\", 1, 5, default_value=3)\n",
        "gamma = CategoricalHyperparameter(\"gamma\", [\"auto\", \"value\"], default_value=\"value\")\n",
        "gamma_value = UniformFloatHyperparameter(\"gamma_value\", 0.001, 8, default_value=1)\n",
        "coef0 = UniformFloatHyperparameter(\"coef0\", 0.0, 10.0, default_value=0.0)\n",
        "c = UniformFloatHyperparameter(\"C\", 0.001, 1000.0, default_value=1.0)\n",
        "\n",
        "cs.add_hyperparameters([c, kernel, degree, shrinking, gamma, gamma_value, coef0])\n",
        "use_degree = InCondition(child=degree, parent=kernel, values=[\"poly\"])\n",
        "use_gamma_value = InCondition(child=gamma_value, parent=gamma, values=[\"value\"])\n",
        "use_gamma = InCondition(child=gamma, parent=kernel, values=[\"poly\", \"rbf\", \"sigmoid\"])\n",
        "use_coef0 = InCondition(child=coef0, parent=kernel, values=[\"poly\", \"sigmoid\"])\n",
        "cs.add_conditions([use_degree, use_gamma_value, use_gamma, use_coef0])\n"
      ],
      "execution_count": 11,
      "outputs": [
        {
          "output_type": "execute_result",
          "data": {
            "text/plain": [
              "[degree | kernel in {'poly'},\n",
              " gamma_value | gamma in {'value'},\n",
              " gamma | kernel in {'poly', 'rbf', 'sigmoid'},\n",
              " coef0 | kernel in {'poly', 'sigmoid'}]"
            ]
          },
          "metadata": {
            "tags": []
          },
          "execution_count": 11
        }
      ]
    },
    {
      "metadata": {
        "id": "usiH85EIwkU8",
        "colab_type": "text"
      },
      "cell_type": "markdown",
      "source": [
        "##Without instances: Run SMAC on SVM with Iris Dataset"
      ]
    },
    {
      "metadata": {
        "id": "p2-KXKC3wqAL",
        "colab_type": "code",
        "colab": {
          "base_uri": "https://localhost:8080/",
          "height": 966
        },
        "outputId": "eaf3e9bb-81e5-4f8a-8df9-259764f5a7c2"
      },
      "cell_type": "code",
      "source": [
        "from smac.scenario.scenario import Scenario\n",
        "from smac.facade.smac_facade import SMAC\n",
        "\n",
        "scenario = Scenario({\"run_obj\": \"quality\",  # we optimize quality (alternative runtime)\n",
        "                    \"runcount-limit\": 40,  # time for running SMAC\n",
        "                     \"cs\": cs,  # configuration space\n",
        "                     \"deterministic\": \"true\",\n",
        "                     })\n",
        "\n",
        "for i in np.random.randint(10000, size=1):\n",
        "    smac = SMAC(scenario=scenario, rng=np.random.RandomState(i),\n",
        "                tae_runner=svc_from_cfg_no_instances)\n",
        "\n",
        "    incumbent = smac.optimize()\n",
        "    cost = get_history(smac)\n",
        "    plot_log_scale(cost, 40, \"SVM\", \"red\")\n"
      ],
      "execution_count": 12,
      "outputs": [
        {
          "output_type": "stream",
          "text": [
            "INFO:smac.utils.io.cmd_reader.CMDReader:Output to smac3-output_2018-06-04_20:39:16_403352\n",
            "INFO:smac.facade.smac_facade.SMAC:Optimizing a deterministic scenario for quality without a tuner timeout - will make SMAC deterministic!\n",
            "INFO:smac.intensification.intensification.Intensifier:Challenger (0.0333) is better than incumbent (0.0400) on 1 runs.\n",
            "INFO:smac.intensification.intensification.Intensifier:Changes in incumbent:\n",
            "INFO:smac.intensification.intensification.Intensifier:  C : 1.0 -> 949.257503014505\n",
            "INFO:smac.intensification.intensification.Intensifier:  kernel : 'poly' -> 'linear'\n",
            "INFO:smac.intensification.intensification.Intensifier:Updated estimated cost of incumbent on 1 runs: 0.0333\n",
            "INFO:smac.intensification.intensification.Intensifier:Updated estimated cost of incumbent on 1 runs: 0.0333\n",
            "INFO:smac.intensification.intensification.Intensifier:Updated estimated cost of incumbent on 1 runs: 0.0333\n",
            "INFO:smac.intensification.intensification.Intensifier:Updated estimated cost of incumbent on 1 runs: 0.0333\n",
            "INFO:smac.intensification.intensification.Intensifier:Updated estimated cost of incumbent on 1 runs: 0.0333\n",
            "INFO:smac.intensification.intensification.Intensifier:Updated estimated cost of incumbent on 1 runs: 0.0333\n",
            "INFO:smac.intensification.intensification.Intensifier:Updated estimated cost of incumbent on 1 runs: 0.0333\n",
            "INFO:smac.intensification.intensification.Intensifier:Updated estimated cost of incumbent on 1 runs: 0.0333\n",
            "INFO:smac.intensification.intensification.Intensifier:Updated estimated cost of incumbent on 1 runs: 0.0333\n",
            "INFO:smac.intensification.intensification.Intensifier:Updated estimated cost of incumbent on 1 runs: 0.0333\n",
            "INFO:smac.intensification.intensification.Intensifier:Updated estimated cost of incumbent on 1 runs: 0.0333\n",
            "INFO:smac.intensification.intensification.Intensifier:Updated estimated cost of incumbent on 1 runs: 0.0333\n",
            "INFO:smac.intensification.intensification.Intensifier:Updated estimated cost of incumbent on 1 runs: 0.0333\n",
            "INFO:smac.intensification.intensification.Intensifier:Updated estimated cost of incumbent on 1 runs: 0.0333\n",
            "INFO:smac.intensification.intensification.Intensifier:Updated estimated cost of incumbent on 1 runs: 0.0333\n",
            "INFO:smac.intensification.intensification.Intensifier:Updated estimated cost of incumbent on 1 runs: 0.0333\n",
            "INFO:smac.intensification.intensification.Intensifier:Updated estimated cost of incumbent on 1 runs: 0.0333\n",
            "INFO:smac.intensification.intensification.Intensifier:Updated estimated cost of incumbent on 1 runs: 0.0333\n",
            "INFO:smac.intensification.intensification.Intensifier:Updated estimated cost of incumbent on 1 runs: 0.0333\n",
            "INFO:smac.stats.stats.Stats:##########################################################\n",
            "INFO:smac.stats.stats.Stats:Statistics:\n",
            "INFO:smac.stats.stats.Stats:#Incumbent changed: 1\n",
            "INFO:smac.stats.stats.Stats:#Target algorithm runs: 40 / 40.0\n",
            "INFO:smac.stats.stats.Stats:#Configurations: 39\n",
            "INFO:smac.stats.stats.Stats:Used wallclock time: 18.96 / inf sec \n",
            "INFO:smac.stats.stats.Stats:Used target algorithm runtime: 2.79 / inf sec\n",
            "INFO:smac.stats.stats.Stats:##########################################################\n",
            "INFO:smac.facade.smac_facade.SMAC:Final Incumbent: Configuration:\n",
            "  C, Value: 949.257503014505\n",
            "  kernel, Value: 'linear'\n",
            "  shrinking, Value: 'true'\n",
            "\n",
            "INFO:smac.facade.smac_facade.SMAC:Estimated cost of incumbent: 0.033333\n"
          ],
          "name": "stderr"
        },
        {
          "output_type": "display_data",
          "data": {
            "image/png": "[encoded data removed]",
            "text/plain": [
              "<matplotlib.figure.Figure at 0x7fd9721ee588>"
            ]
          },
          "metadata": {
            "tags": []
          }
        }
      ]
    },
    {
      "metadata": {
        "id": "hl9utq32xKhV",
        "colab_type": "text"
      },
      "cell_type": "markdown",
      "source": [
        "## With instances: Run SMAC on SVM with Iris Dataset"
      ]
    },
    {
      "metadata": {
        "id": "egvy_moiPiEA",
        "colab_type": "code",
        "colab": {
          "base_uri": "https://localhost:8080/",
          "height": 1493
        },
        "outputId": "f85a2cd6-2e61-4c0a-bc6a-82c8a1a0c3f8"
      },
      "cell_type": "code",
      "source": [
        "# Build a scenario\n",
        "scenario = Scenario({\"run_obj\": \"quality\",  # we optimize quality\n",
        "                     \"runcount-limit\": 200,  # maximum number of function evaluations\n",
        "                     \"cs\": cs,               # configuration space\n",
        "                     \"deterministic\": \"true\",\n",
        "                     \"instances\": [[instance1], [instance2], [instance3], [instance4], [instance5]]\n",
        "                     })\n",
        "# start SMAC\n",
        "smac = SMAC(scenario=scenario,\n",
        "            rng=np.random.RandomState(1234),\n",
        "            tae_runner=svc_from_cfg)\n",
        "\n",
        "best_x = smac.optimize()\n",
        "cost = get_history(smac)\n",
        "plot_log_scale(cost, 200, \"SVM\", \"blue\")\n"
      ],
      "execution_count": 13,
      "outputs": [
        {
          "output_type": "stream",
          "text": [
            "INFO:smac.utils.io.cmd_reader.CMDReader:Output to smac3-output_2018-06-04_20:39:36_238397\n",
            "INFO:smac.facade.smac_facade.SMAC:Optimizing a deterministic scenario for quality without a tuner timeout - will make SMAC deterministic!\n",
            "INFO:smac.intensification.intensification.Intensifier:Challenger (0.1222) is better than incumbent (0.1333) on 3 runs.\n",
            "INFO:smac.intensification.intensification.Intensifier:Changes in incumbent:\n",
            "INFO:smac.intensification.intensification.Intensifier:  C : 1.0 -> 623.8536649058782\n",
            "INFO:smac.intensification.intensification.Intensifier:  coef0 : 0.0 -> 9.936543184765972\n",
            "INFO:smac.intensification.intensification.Intensifier:  gamma_value : 1.0 -> 2.240867833005138\n",
            "INFO:smac.intensification.intensification.Intensifier:Updated estimated cost of incumbent on 3 runs: 0.1222\n",
            "INFO:smac.intensification.intensification.Intensifier:Updated estimated cost of incumbent on 5 runs: 0.1000\n",
            "INFO:smac.intensification.intensification.Intensifier:Challenger (0.0733) is better than incumbent (0.1000) on 5 runs.\n",
            "INFO:smac.intensification.intensification.Intensifier:Changes in incumbent:\n",
            "INFO:smac.intensification.intensification.Intensifier:  C : 623.8536649058782 -> 205.07401100906904\n",
            "INFO:smac.intensification.intensification.Intensifier:  kernel : 'poly' -> 'linear'\n",
            "INFO:smac.intensification.intensification.Intensifier:  shrinking : 'true' -> 'false'\n",
            "INFO:smac.intensification.intensification.Intensifier:Updated estimated cost of incumbent on 5 runs: 0.0733\n",
            "INFO:smac.intensification.intensification.Intensifier:Challenger (0.0667) is better than incumbent (0.0733) on 5 runs.\n",
            "INFO:smac.intensification.intensification.Intensifier:Changes in incumbent:\n",
            "INFO:smac.intensification.intensification.Intensifier:  C : 205.07401100906904 -> 25.734600982746755\n",
            "INFO:smac.intensification.intensification.Intensifier:  gamma : None -> 'auto'\n",
            "INFO:smac.intensification.intensification.Intensifier:  kernel : 'linear' -> 'rbf'\n",
            "INFO:smac.intensification.intensification.Intensifier:  shrinking : 'false' -> 'true'\n",
            "INFO:smac.intensification.intensification.Intensifier:Updated estimated cost of incumbent on 5 runs: 0.0667\n",
            "INFO:smac.intensification.intensification.Intensifier:Updated estimated cost of incumbent on 5 runs: 0.0667\n",
            "INFO:smac.intensification.intensification.Intensifier:Updated estimated cost of incumbent on 5 runs: 0.0667\n",
            "INFO:smac.intensification.intensification.Intensifier:Updated estimated cost of incumbent on 5 runs: 0.0667\n",
            "INFO:smac.intensification.intensification.Intensifier:Updated estimated cost of incumbent on 5 runs: 0.0667\n",
            "INFO:smac.intensification.intensification.Intensifier:Updated estimated cost of incumbent on 5 runs: 0.0667\n",
            "INFO:smac.intensification.intensification.Intensifier:Updated estimated cost of incumbent on 5 runs: 0.0667\n",
            "INFO:smac.intensification.intensification.Intensifier:Updated estimated cost of incumbent on 5 runs: 0.0667\n",
            "INFO:smac.intensification.intensification.Intensifier:Updated estimated cost of incumbent on 5 runs: 0.0667\n",
            "INFO:smac.intensification.intensification.Intensifier:Updated estimated cost of incumbent on 5 runs: 0.0667\n",
            "INFO:smac.intensification.intensification.Intensifier:Challenger (0.0600) is better than incumbent (0.0667) on 5 runs.\n",
            "INFO:smac.intensification.intensification.Intensifier:Changes in incumbent:\n",
            "INFO:smac.intensification.intensification.Intensifier:  C : 25.734600982746755 -> 24.501939728335145\n",
            "INFO:smac.intensification.intensification.Intensifier:  kernel : 'rbf' -> 'linear'\n",
            "INFO:smac.intensification.intensification.Intensifier:Updated estimated cost of incumbent on 5 runs: 0.0600\n",
            "INFO:smac.intensification.intensification.Intensifier:Updated estimated cost of incumbent on 5 runs: 0.0600\n",
            "INFO:smac.intensification.intensification.Intensifier:Updated estimated cost of incumbent on 5 runs: 0.0600\n",
            "INFO:smac.intensification.intensification.Intensifier:Updated estimated cost of incumbent on 5 runs: 0.0600\n",
            "INFO:smac.intensification.intensification.Intensifier:Updated estimated cost of incumbent on 5 runs: 0.0600\n",
            "INFO:smac.intensification.intensification.Intensifier:Updated estimated cost of incumbent on 5 runs: 0.0600\n",
            "INFO:smac.intensification.intensification.Intensifier:Updated estimated cost of incumbent on 5 runs: 0.0600\n",
            "INFO:smac.intensification.intensification.Intensifier:Updated estimated cost of incumbent on 5 runs: 0.0600\n",
            "INFO:smac.intensification.intensification.Intensifier:Updated estimated cost of incumbent on 5 runs: 0.0600\n"
          ],
          "name": "stderr"
        },
        {
          "output_type": "stream",
          "text": [
            "INFO:smac.intensification.intensification.Intensifier:Updated estimated cost of incumbent on 5 runs: 0.0600\n",
            "INFO:smac.intensification.intensification.Intensifier:Updated estimated cost of incumbent on 5 runs: 0.0600\n",
            "INFO:smac.intensification.intensification.Intensifier:Updated estimated cost of incumbent on 5 runs: 0.0600\n",
            "INFO:smac.intensification.intensification.Intensifier:Updated estimated cost of incumbent on 5 runs: 0.0600\n",
            "INFO:smac.intensification.intensification.Intensifier:Updated estimated cost of incumbent on 5 runs: 0.0600\n",
            "INFO:smac.intensification.intensification.Intensifier:Updated estimated cost of incumbent on 5 runs: 0.0600\n",
            "INFO:smac.intensification.intensification.Intensifier:Updated estimated cost of incumbent on 5 runs: 0.0600\n",
            "INFO:smac.intensification.intensification.Intensifier:Updated estimated cost of incumbent on 5 runs: 0.0600\n",
            "INFO:smac.intensification.intensification.Intensifier:Updated estimated cost of incumbent on 5 runs: 0.0600\n",
            "INFO:smac.intensification.intensification.Intensifier:Updated estimated cost of incumbent on 5 runs: 0.0600\n",
            "INFO:smac.intensification.intensification.Intensifier:Updated estimated cost of incumbent on 5 runs: 0.0600\n",
            "INFO:smac.intensification.intensification.Intensifier:Updated estimated cost of incumbent on 5 runs: 0.0600\n",
            "INFO:smac.stats.stats.Stats:##########################################################\n",
            "INFO:smac.stats.stats.Stats:Statistics:\n",
            "INFO:smac.stats.stats.Stats:#Incumbent changed: 4\n",
            "INFO:smac.stats.stats.Stats:#Target algorithm runs: 200 / 200.0\n",
            "INFO:smac.stats.stats.Stats:#Configurations: 71\n",
            "INFO:smac.stats.stats.Stats:Used wallclock time: 32.48 / inf sec \n",
            "INFO:smac.stats.stats.Stats:Used target algorithm runtime: 2.90 / inf sec\n",
            "INFO:smac.stats.stats.Stats:##########################################################\n",
            "INFO:smac.facade.smac_facade.SMAC:Final Incumbent: Configuration:\n",
            "  C, Value: 24.501939728335145\n",
            "  kernel, Value: 'linear'\n",
            "  shrinking, Value: 'true'\n",
            "\n",
            "INFO:smac.facade.smac_facade.SMAC:Estimated cost of incumbent: 0.060000\n"
          ],
          "name": "stderr"
        },
        {
          "output_type": "display_data",
          "data": {
            "image/png": "[encoded data removed]",
            "text/plain": [
              "<matplotlib.figure.Figure at 0x7fd96d6f4898>"
            ]
          },
          "metadata": {
            "tags": []
          }
        }
      ]
    }
  ]
}