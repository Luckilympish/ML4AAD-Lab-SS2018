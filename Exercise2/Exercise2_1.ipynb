{
  "nbformat": 4,
  "nbformat_minor": 0,
  "metadata": {
    "colab": {
      "name": "Exercise2.1.ipynb",
      "version": "0.3.2",
      "provenance": [],
      "collapsed_sections": []
    }
  },
  "cells": [
    {
      "cell_type": "markdown",
      "metadata": {
        "id": "view-in-github",
        "colab_type": "text"
      },
      "source": [
        "[View in Colaboratory](https://colab.research.google.com/github/gresash/ML4AAD-Lab-SS2018/blob/master/Exercise2/Exercise2_1.ipynb)"
      ]
    },
    {
      "metadata": {
        "id": "Z_aa8nu46goS",
        "colab_type": "code",
        "colab": {}
      },
      "cell_type": "code",
      "source": [
        "%matplotlib inline\n",
        "import numpy as np\n",
        "import scipy\n",
        "\n",
        "\n",
        "def run(configuration, index):\n",
        "    data = [[2, 1, 3, 4, 3], [3, 1, 5, 1, 5], [1, 3, 5, 4, 7], [1, 2, 1, 2, 9], [2, 2, 3, 5, 10]]\n",
        "    configuration.append(data[index][len(configuration)])\n",
        "    return configuration\n",
        "\n",
        "\n",
        "def racing_for_AC(isAggressive):\n",
        "    incumbent = []\n",
        "    challengers = [[], [], [], []]\n",
        "    runs = 0\n",
        "    current = 0\n",
        "    incumbentIndex = 0\n",
        "\n",
        "    for challenger in challengers:\n",
        "        current += 1\n",
        "        incumbent = run(incumbent, incumbentIndex)\n",
        "        runs += 1\n",
        "        while True:\n",
        "            if len(challenger) < len(incumbent):\n",
        "                challenger = run(challenger, current)\n",
        "                runs += 1\n",
        "            if dominate(incumbent, challenger, isAggressive):\n",
        "                break;\n",
        "            if len(incumbent) == len(challenger):\n",
        "                incumbent = challenger\n",
        "                incumbentIndex = current\n",
        "                break;\n",
        "\n",
        "    return incumbent, runs\n",
        "\n",
        "\n",
        "def dominate(incumbent, challenger, isAggressive):\n",
        "    if isAggressive:\n",
        "        return aggresive(incumbent[:len(challenger)], challenger)\n",
        "    else:\n",
        "        return stat_test(incumbent[:len(challenger)], challenger)\n",
        "\n",
        "\n",
        "def aggresive(incumbent, challenger):\n",
        "    if ((len(incumbent) >= len(challenger)) and (np.average(incumbent) < np.average(challenger))):\n",
        "        return True\n",
        "    return False\n",
        "\n",
        "\n",
        "def stat_test(incumbent, challenger):\n",
        "    if (len(incumbent) >= len(challenger)) and (pp_test(incumbent, challenger) <= 0.55):\n",
        "        return True\n",
        "    return False\n",
        "\n",
        "\n",
        "def pp_test(incumbent1, challenger1):\n",
        "    N_PERMUTATIONS = 10000\n",
        "    incumbent = np.array(incumbent1)\n",
        "    challenger = np.array(challenger1)\n",
        "    if np.all(incumbent == challenger):\n",
        "        return 1\n",
        "    ground_truth = np.sum(incumbent - challenger)\n",
        "    permutations = [np.sum((incumbent - challenger) * np.random.choice([1, -1], size=incumbent.shape[0]))\n",
        "                    for _ in range(N_PERMUTATIONS)]\n",
        "    p_value = scipy.stats.percentileofscore(a=permutations, score=ground_truth) / 100\n",
        "\n",
        "    return p_value\n"
      ],
      "execution_count": 0,
      "outputs": []
    },
    {
      "metadata": {
        "id": "4BzJ_ZxGe1Wh",
        "colab_type": "code",
        "colab": {
          "base_uri": "https://localhost:8080/",
          "height": 119
        },
        "outputId": "832b30cf-bcf5-471e-edc3-8ac84b3d7703"
      },
      "cell_type": "code",
      "source": [
        "final_incumbent_Aggressive, runs_Aggressive = racing_for_AC(True)\n",
        "print(\"Aggressive Racing:\")\n",
        "print(\"Final incumbent: %s\" % (final_incumbent_Aggressive))\n",
        "print(\"Algorithm runs: %d\" % (runs_Aggressive))\n",
        "\n",
        "final_incumbent_Stat, runs_Stat = racing_for_AC(False)\n",
        "print(\"Statistical Hypothesis Test:\")\n",
        "print(\"Final incumbent: %s\" % (final_incumbent_Stat))\n",
        "print(\"Algorithm runs: %d\" % (runs_Stat))\n"
      ],
      "execution_count": 78,
      "outputs": [
        {
          "output_type": "stream",
          "text": [
            "Aggressive Racing:\n",
            "Final incumbent: [1, 2, 1, 2]\n",
            "Algorithm runs: 11\n",
            "Statistical Hypothesis Test:\n",
            "Final incumbent: [2, 1, 3, 4]\n",
            "Algorithm runs: 11\n"
          ],
          "name": "stdout"
        }
      ]
    },
    {
      "metadata": {
        "id": "snuZ93JBe0Mk",
        "colab_type": "text"
      },
      "cell_type": "markdown",
      "source": [
        ""
      ]
    }
  ]
}